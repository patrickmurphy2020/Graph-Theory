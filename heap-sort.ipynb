{
 "cells": [
  {
   "cell_type": "markdown",
   "id": "50863b88",
   "metadata": {},
   "source": [
    "<h1> Heap Sort</h1>\n",
    "\n",
    "***\n",
    "<i> \n",
    "We extend the concept of linked data structures to structure containing nodes with more than one self-referenced field. A binary tree is made of nodes, where each node contains a \"left\" reference, a \"right\" reference, and a data element. The topmost node in the tree is called the root.\n",
    "Every node (excluding a root) in a tree is connected by a directed edge from exactly one other node. This node is called a parent. On the other hand, each node can be connected to arbitrary number of nodes, called children. Nodes with no children are called leaves, or external nodes. Nodes which are not leaves are called internal nodes. Nodes with the same parent are called siblings.</i>\n",
    "\n",
    "-https://www.andrew.cmu.edu/course/15-121/lectures/Trees/trees.html"
   ]
  },
  {
   "cell_type": "markdown",
   "id": "16205030",
   "metadata": {},
   "source": [
    "Heap sort is a comparison based sorting algorithm. It uses the heap data structure to sort the array. While it may be slightly slower than a quicksort algorithm it is favoured by many because it has a preferable worst case scenario runtime being O(n log n).\n",
    "\n",
    "Heap sort divides the array into two distinct regions <i>Sorted</i> and <i>Unsorted</i>. At first every element is in the unsorted region and the sorted region is left empty. The largest elemnt is the chosen and added to the sorted region. The elements in the unsorted region can be visualized as a binary tree"
   ]
  },
  {
   "cell_type": "markdown",
   "id": "fba4d9f0",
   "metadata": {},
   "source": [
    "***\n",
    "<h3> Binary Tree </h3>"
   ]
  },
  {
   "cell_type": "markdown",
   "id": "db8836e7",
   "metadata": {},
   "source": [
    "<i>\n",
    "We extend the concept of linked data structures to structure containing nodes with more than one self-referenced field. A binary tree is made of nodes, where each node contains a \"left\" reference, a \"right\" reference, and a data element. The topmost node in the tree is called the root.\n",
    "Every node (excluding a root) in a tree is connected by a directed edge from exactly one other node. This node is called a parent. On the other hand, each node can be connected to arbitrary number of nodes, called children. Nodes with no children are called leaves, or external nodes. Nodes which are not leaves are called internal nodes. Nodes with the same parent are called siblings.</i>\n",
    "\n",
    "-https://www.andrew.cmu.edu/course/15-121/lectures/Trees/trees.html"
   ]
  },
  {
   "cell_type": "code",
   "execution_count": null,
   "id": "df9c9ec2",
   "metadata": {},
   "outputs": [],
   "source": []
  }
 ],
 "metadata": {
  "kernelspec": {
   "display_name": "Python 3 (ipykernel)",
   "language": "python",
   "name": "python3"
  },
  "language_info": {
   "codemirror_mode": {
    "name": "ipython",
    "version": 3
   },
   "file_extension": ".py",
   "mimetype": "text/x-python",
   "name": "python",
   "nbconvert_exporter": "python",
   "pygments_lexer": "ipython3",
   "version": "3.9.7"
  }
 },
 "nbformat": 4,
 "nbformat_minor": 5
}
