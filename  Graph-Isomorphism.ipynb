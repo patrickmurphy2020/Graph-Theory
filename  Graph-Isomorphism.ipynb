{
 "cells": [
  {
   "cell_type": "markdown",
   "id": "0a60a642",
   "metadata": {},
   "source": [
    "<h1> Definition of Graph-Isomorphism</h1>\n",
    " \n",
    " ***"
   ]
  },
  {
   "cell_type": "markdown",
   "id": "73437ab3",
   "metadata": {},
   "source": [
    "What is meant by isomorphism of graphs?\n",
    "Two graphs which contain the same number of graph vertices connected in the same way are said to be isomorphic. Formally, two graphs and with graph vertices are said to be isomorphic if there is a permutation of such that is in the set of graph edges iff is in the set of graph edges .\n",
    "\n",
    "-\"https://mathworld.wolfram.com/IsomorphicGraphs.html\"\n",
    "\n",
    "If two graphs are isomorphic it means they are the same graph but look different"
   ]
  },
  {
   "cell_type": "markdown",
   "id": "89dccdb5",
   "metadata": {},
   "source": [
    "# Graph-Isomorphism\n",
    "\n",
    "***"
   ]
  },
  {
   "cell_type": "markdown",
   "id": "a6d59855",
   "metadata": {},
   "source": [
    "<h1> Specification of the Graph Isomorphism Problem</h1>"
   ]
  },
  {
   "cell_type": "markdown",
   "id": "a29945fe",
   "metadata": {},
   "source": [
    "The graph isomorphism problem is the computational problem of determining whether or not two graphs are isomorphic.\n",
    "\n",
    "It's not known if we can solve the graph isomorphism can be solved in polynomial time.\n",
    "\n",
    "The graph isomorphism problem is thought to be NP-intermediate due to it not being NP-complete or P.\n",
    "\n",
    "NP stands for nondeterministic polynomial time, it is a complexity class in computational complexity theory used to classify decision. NP is the set of decision problems that can be solved in polynomial time by a nondeterministic Turing machine. Or alternatively where the answer for the problem instances is \"yes\" and have proof that can be verified in polynomial time by a deterministic Turing machine.\n",
    "\n",
    "It's known that the graph isomorphism problem is in the low hierarchy of class NP, this implies that is'nt NP-complete barring the polynomial time hierarchy collapses to its second level. Simultaneously, isomorphism for many special classes of graphs are able to be solved in polynomial time\n",
    "\n",
    "This problem is a special case of the subgraph isomorphism problem. In computer science, the subgraph isomorphism problem is a computational task where two graphs G and H are given as input, and we need to determine if G contains a subgraph that is isomorphic to H. Subgraph isomorphism is a generalization of both the problem of testing whether a graph contains a Hamiltonian cycle and the maximum clique problem, this makes the problem NP-complete. However there are some other cases of subgraph isomorphism that can be solved polynomial time. In some instances the name subgraph matching is also used for the same problem. This name focuses on finding such a subgraph instead of the bare decision problem."
   ]
  },
  {
   "cell_type": "markdown",
   "id": "3661d26b",
   "metadata": {},
   "source": [
    "<h2> Graphs </h2>"
   ]
  },
  {
   "cell_type": "code",
   "execution_count": 1,
   "id": "b5f0a34b",
   "metadata": {},
   "outputs": [],
   "source": [
    "# Plots.\n",
    "import matplotlib.pyplot as plt"
   ]
  },
  {
   "cell_type": "code",
   "execution_count": 2,
   "id": "e81bf832",
   "metadata": {},
   "outputs": [],
   "source": [
    "# Resize plots.\n",
    "plt.rcParams['figure.figsize'] = (5, 5)"
   ]
  },
  {
   "cell_type": "code",
   "execution_count": 3,
   "id": "aab54bec",
   "metadata": {},
   "outputs": [],
   "source": [
    "# Matrices.\n",
    "import numpy as np"
   ]
  },
  {
   "cell_type": "code",
   "execution_count": 4,
   "id": "b3d1735c",
   "metadata": {},
   "outputs": [],
   "source": [
    "# Permutations\n",
    "import itertools as it"
   ]
  },
  {
   "cell_type": "code",
   "execution_count": 5,
   "id": "0b2ea6f8",
   "metadata": {},
   "outputs": [],
   "source": [
    "# Graphs.\n",
    "import networkx as nx"
   ]
  },
  {
   "cell_type": "code",
   "execution_count": 6,
   "id": "12ddbf9c",
   "metadata": {},
   "outputs": [],
   "source": [
    "# Math.\n",
    "import math"
   ]
  },
  {
   "cell_type": "code",
   "execution_count": 7,
   "id": "69e6798a",
   "metadata": {},
   "outputs": [],
   "source": [
    "# Networkx drawing parameters.\n",
    "params = {'node_color': 'lightskyblue', 'node_size': 800, 'font_size': 18, 'with_labels': True}"
   ]
  },
  {
   "cell_type": "markdown",
   "id": "1b2c33fe",
   "metadata": {},
   "source": [
    "The same graph can be \"drawn\" multiple ways. \n",
    "\n",
    "The following two graphs (graphs G and H) are the same and show the same data but look different. Graphs G and H have the same number of vertices, the same number of edges, same degree sequence and the same number of circuit of particular length."
   ]
  },
  {
   "cell_type": "code",
   "execution_count": 8,
   "id": "0b4e5b79",
   "metadata": {},
   "outputs": [],
   "source": [
    "# Create an empty graph.\n",
    "G = nx.Graph()"
   ]
  },
  {
   "cell_type": "code",
   "execution_count": 9,
   "id": "a0f453fe",
   "metadata": {},
   "outputs": [],
   "source": [
    "# Create a set of edges.\n",
    "E1 = ((0, 1), (1, 2), (0, 2))"
   ]
  },
  {
   "cell_type": "code",
   "execution_count": 10,
   "id": "2b80b718",
   "metadata": {},
   "outputs": [],
   "source": [
    "# Incorporate the edges in G.\n",
    "# The nodes are just created as needed, based on E1.\n",
    "G.add_edges_from(E1)"
   ]
  },
  {
   "cell_type": "code",
   "execution_count": 11,
   "id": "56575413",
   "metadata": {},
   "outputs": [
    {
     "data": {
      "image/png": "[encoded data removed]",
      "text/plain": [
       "<Figure size 360x360 with 1 Axes>"
      ]
     },
     "metadata": {},
     "output_type": "display_data"
    }
   ],
   "source": [
    "# Draw G.\n",
    "nx.draw_circular(G, **params)"
   ]
  },
  {
   "cell_type": "code",
   "execution_count": 12,
   "id": "8b31baa8",
   "metadata": {},
   "outputs": [],
   "source": [
    "# Create an empty graph.\n",
    "H = nx.Graph()"
   ]
  },
  {
   "cell_type": "code",
   "execution_count": 13,
   "id": "e9bc71b5",
   "metadata": {},
   "outputs": [],
   "source": [
    "# Create a set of edges.\n",
    "E2 = ((1, 0), (1, 2), (2, 0))"
   ]
  },
  {
   "cell_type": "code",
   "execution_count": 14,
   "id": "5c96fdc9",
   "metadata": {},
   "outputs": [],
   "source": [
    "# Incorporate the edges in H.\n",
    "# The nodes are just created as needed, based on E2.\n",
    "H.add_edges_from(E2)"
   ]
  },
  {
   "cell_type": "code",
   "execution_count": 15,
   "id": "d9932208",
   "metadata": {},
   "outputs": [
    {
     "data": {
      "image/png": "[encoded data removed]",
      "text/plain": [
       "<Figure size 360x360 with 1 Axes>"
      ]
     },
     "metadata": {},
     "output_type": "display_data"
    }
   ],
   "source": [
    "# Draw H.\n",
    "nx.draw_circular(H, **params)"
   ]
  },
  {
   "cell_type": "markdown",
   "id": "9c2f889a",
   "metadata": {},
   "source": [
    "# Determine whether two graphs are isomorphic\n",
    "\n",
    "***"
   ]
  },
  {
   "cell_type": "markdown",
   "id": "ef88c9da",
   "metadata": {},
   "source": [
    "<p>In order for two graphs to be isomorpic they must have the same number of vertices and edges. They must also have the same degree sequence. As well as the same number of circuit of particular length<p>"
   ]
  },
  {
   "cell_type": "markdown",
   "id": "f6ea0f8a",
   "metadata": {},
   "source": [
    "# Complexity of the Graph Isomorphism Problem\n",
    "\n",
    "***"
   ]
  },
  {
   "cell_type": "markdown",
   "id": "863527fc",
   "metadata": {},
   "source": [
    "As peviously stated \"The graph isomorphism problem is thought to be NP-intermediate due to it not being NP-complete or P.\"\n",
    "\n",
    "Being in the NP class means if two graphs are isomorphic you can give a short proof that can be verified in polynomial time \n",
    "\n",
    "Inside NP there's a class called NP-complete, which are seen as the most difficult problems in NP. In order for a problem to be considered NP-complete a brute-force search algorithm can find a solution by trying all possible solutions and the correctness of each solution can quickly be verified in polynomial time. The majority of problems in NP that we care about are also NP-complete.\n",
    "\n",
    "For all we know P = NP and if thats the case the question about graph isomorphism is moot, but in the scenario that most people believe P and NP are different, so that leaves the question of does graph isomorphism have an effecient algorithm."
   ]
  },
  {
   "cell_type": "code",
   "execution_count": null,
   "id": "f2817ccf",
   "metadata": {},
   "outputs": [],
   "source": []
  },
  {
   "cell_type": "code",
   "execution_count": null,
   "id": "76976cf4",
   "metadata": {},
   "outputs": [],
   "source": []
  },
  {
   "cell_type": "code",
   "execution_count": null,
   "id": "86fff2d5",
   "metadata": {},
   "outputs": [],
   "source": []
  },
  {
   "cell_type": "code",
   "execution_count": null,
   "id": "4b454e73",
   "metadata": {},
   "outputs": [],
   "source": []
  },
  {
   "cell_type": "code",
   "execution_count": null,
   "id": "498a2c3c",
   "metadata": {},
   "outputs": [],
   "source": []
  },
  {
   "cell_type": "code",
   "execution_count": null,
   "id": "e8bfbb84",
   "metadata": {},
   "outputs": [],
   "source": []
  },
  {
   "cell_type": "code",
   "execution_count": null,
   "id": "299bae94",
   "metadata": {},
   "outputs": [],
   "source": []
  },
  {
   "cell_type": "code",
   "execution_count": null,
   "id": "24241ea0",
   "metadata": {},
   "outputs": [],
   "source": []
  },
  {
   "cell_type": "code",
   "execution_count": null,
   "id": "a3be96eb",
   "metadata": {},
   "outputs": [],
   "source": []
  },
  {
   "cell_type": "code",
   "execution_count": null,
   "id": "451ce034",
   "metadata": {},
   "outputs": [],
   "source": []
  },
  {
   "cell_type": "code",
   "execution_count": null,
   "id": "7a2926e6",
   "metadata": {},
   "outputs": [],
   "source": []
  }
 ],
 "metadata": {
  "kernelspec": {
   "display_name": "Python 3 (ipykernel)",
   "language": "python",
   "name": "python3"
  },
  "language_info": {
   "codemirror_mode": {
    "name": "ipython",
    "version": 3
   },
   "file_extension": ".py",
   "mimetype": "text/x-python",
   "name": "python",
   "nbconvert_exporter": "python",
   "pygments_lexer": "ipython3",
   "version": "3.9.7"
  }
 },
 "nbformat": 4,
 "nbformat_minor": 5
}
