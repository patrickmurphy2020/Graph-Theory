{
 "cells": [
  {
   "cell_type": "markdown",
   "id": "0a60a642",
   "metadata": {},
   "source": [
    "<h1> Definition of Graph-Isomorphism</h1>\n",
    " \n",
    " ***"
   ]
  },
  {
   "cell_type": "markdown",
   "id": "73437ab3",
   "metadata": {},
   "source": [
    "What is meant by isomorphism of graphs?\n",
    "Two graphs which contain the same number of graph vertices connected in the same way are said to be isomorphic. Formally, two graphs and with graph vertices are said to be isomorphic if there is a permutation of such that is in the set of graph edges iff is in the set of graph edges .\n",
    "\n",
    "-\"https://mathworld.wolfram.com/IsomorphicGraphs.html\"\n",
    "\n",
    "If two graphs are isomorphic it means they are the same graph but look different"
   ]
  },
  {
   "cell_type": "markdown",
   "id": "89dccdb5",
   "metadata": {},
   "source": [
    "# Graph-Isomorphism\n",
    "\n",
    "***"
   ]
  },
  {
   "cell_type": "markdown",
   "id": "a6d59855",
   "metadata": {},
   "source": [
    "<h1> Specification of the Graph Isomorphism Problem</h1>"
   ]
  },
  {
   "cell_type": "markdown",
   "id": "a29945fe",
   "metadata": {},
   "source": [
    "The graph isomorphism problem is the computational problem of determining whether or not two graphs are isomorphic.\n",
    "\n",
    "It's not known if we can solve the graph isomorphism can be solved in polynomial time.\n",
    "\n",
    "The graph isomorphism problem is thought to be NP-intermediate due to it not being NP-complete or P.\n",
    "\n",
    "NP stands for nondeterministic polynomial time, it is a complexity class in computational complexity theory used to classify decision. NP is the set of decision problems that can be solved in polynomial time by a nondeterministic Turing machine. Or alternatively where the answer for the problem instances is \"yes\" and have proof that can be verified in polynomial time by a deterministic Turing machine."
   ]
  },
  {
   "cell_type": "code",
   "execution_count": 2,
   "id": "b5f0a34b",
   "metadata": {},
   "outputs": [],
   "source": [
    "# Plots.\n",
    "import matplotlib.pyplot as plt"
   ]
  },
  {
   "cell_type": "code",
   "execution_count": 3,
   "id": "e81bf832",
   "metadata": {},
   "outputs": [],
   "source": [
    "# Resize plots.\n",
    "plt.rcParams['figure.figsize'] = (5, 5)"
   ]
  },
  {
   "cell_type": "code",
   "execution_count": 4,
   "id": "aab54bec",
   "metadata": {},
   "outputs": [],
   "source": [
    "# Matrices.\n",
    "import numpy as np"
   ]
  },
  {
   "cell_type": "code",
   "execution_count": 5,
   "id": "b3d1735c",
   "metadata": {},
   "outputs": [],
   "source": [
    "# Permutations\n",
    "import itertools as it"
   ]
  },
  {
   "cell_type": "code",
   "execution_count": 6,
   "id": "0b2ea6f8",
   "metadata": {},
   "outputs": [],
   "source": [
    "# Graphs.\n",
    "import networkx as nx"
   ]
  },
  {
   "cell_type": "code",
   "execution_count": 7,
   "id": "12ddbf9c",
   "metadata": {},
   "outputs": [],
   "source": [
    "# Math.\n",
    "import math"
   ]
  },
  {
   "cell_type": "code",
   "execution_count": 8,
   "id": "69e6798a",
   "metadata": {},
   "outputs": [],
   "source": [
    "# Networkx drawing parameters.\n",
    "params = {'node_color': 'lightskyblue', 'node_size': 800, 'font_size': 18, 'with_labels': True}"
   ]
  },
  {
   "cell_type": "markdown",
   "id": "1b2c33fe",
   "metadata": {},
   "source": [
    "<h2> Graphs </h2>"
   ]
  },
  {
   "cell_type": "code",
   "execution_count": 9,
   "id": "0b4e5b79",
   "metadata": {},
   "outputs": [],
   "source": [
    "# Create an empty graph.\n",
    "G = nx.Graph()"
   ]
  },
  {
   "cell_type": "code",
   "execution_count": 10,
   "id": "a0f453fe",
   "metadata": {},
   "outputs": [],
   "source": [
    "# Create a set of edges.\n",
    "# Note that ideally this would be written as {{0, 1}, {1, 2}, {0, 2}}.\n",
    "# E should be a set of two-subsets of a finite set V (which is defined implicitly from E).\n",
    "E = ((0, 1), (1, 2), (0, 2))"
   ]
  },
  {
   "cell_type": "code",
   "execution_count": 11,
   "id": "2b80b718",
   "metadata": {},
   "outputs": [],
   "source": [
    "# Incorporate the edges in G.\n",
    "# The nodes are just created as needed, based on E.\n",
    "G.add_edges_from(E)"
   ]
  },
  {
   "cell_type": "code",
   "execution_count": 12,
   "id": "56575413",
   "metadata": {},
   "outputs": [
    {
     "data": {
      "image/png": "[encoded data removed]",
      "text/plain": [
       "<Figure size 360x360 with 1 Axes>"
      ]
     },
     "metadata": {},
     "output_type": "display_data"
    }
   ],
   "source": [
    "# Draw G.\n",
    "nx.draw_circular(G, **params)"
   ]
  },
  {
   "cell_type": "markdown",
   "id": "9c2f889a",
   "metadata": {},
   "source": [
    "# Determine whether two graphs are isomorphic\n",
    "\n",
    "***"
   ]
  },
  {
   "cell_type": "markdown",
   "id": "ef88c9da",
   "metadata": {},
   "source": [
    "<p>In order for two graphs to be isomorpic they must have the same number of vertices and edges. They must also have the same degree sequence. As well as the same number of circuit of particular length<p>"
   ]
  },
  {
   "cell_type": "code",
   "execution_count": null,
   "id": "20d00bdd",
   "metadata": {},
   "outputs": [],
   "source": []
  },
  {
   "cell_type": "code",
   "execution_count": null,
   "id": "2721b138",
   "metadata": {},
   "outputs": [],
   "source": []
  },
  {
   "cell_type": "code",
   "execution_count": null,
   "id": "a5770f97",
   "metadata": {},
   "outputs": [],
   "source": []
  },
  {
   "cell_type": "code",
   "execution_count": null,
   "id": "807535ad",
   "metadata": {},
   "outputs": [],
   "source": []
  },
  {
   "cell_type": "code",
   "execution_count": null,
   "id": "143a6b67",
   "metadata": {},
   "outputs": [],
   "source": []
  },
  {
   "cell_type": "markdown",
   "id": "f6ea0f8a",
   "metadata": {},
   "source": [
    "<h1>Main reason computer scientists are interested in the complexity of\n",
    "the Graph Isomorphism Problem</h1>\n",
    "\n",
    "***"
   ]
  }
 ],
 "metadata": {
  "kernelspec": {
   "display_name": "Python 3 (ipykernel)",
   "language": "python",
   "name": "python3"
  },
  "language_info": {
   "codemirror_mode": {
    "name": "ipython",
    "version": 3
   },
   "file_extension": ".py",
   "mimetype": "text/x-python",
   "name": "python",
   "nbconvert_exporter": "python",
   "pygments_lexer": "ipython3",
   "version": "3.9.7"
  }
 },
 "nbformat": 4,
 "nbformat_minor": 5
}
